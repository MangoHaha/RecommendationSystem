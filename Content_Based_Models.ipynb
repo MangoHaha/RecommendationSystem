{
 "cells": [
  {
   "cell_type": "markdown",
   "metadata": {},
   "source": [
    "# Movie Strand Recommendation \n",
    "<br>The basic ideas is if a customer watched one movie, mean\n",
    "<br>There are two most popular recommendation algo **content-based filtering** and ***Collaborative filter***.\n",
    "\n",
    "* ***How is content-based Filter working***?\n",
    "    <img src=\"images/content_based_filtering.png\" alt=\"Drawing\" style=\"width: 400px;\"/>\n",
    "\n",
    "* ***Current Flow***\n",
    "    <img src=\"images/oldArch.png\" alt=\"Drawing\" style=\"width: 400px;\"/>\n",
    "* ***New Flow***\n",
    "\n",
    "    <img src=\"images/newArch.png\" alt=\"Drawing\" style=\"width: 400px;\"/>\n",
    "\n",
    "\n",
    "* #### Content-based filtering theory \n",
    "**[TF_IDF](https://en.wikipedia.org/wiki/Tf%E2%80%93idf)**, reflect how important a word is to a document in a collection or corpus.\n",
    "<br>TF-IDF weighting frequency genres to determining the simularity of programs.\n",
    "\n",
    "    <img src=\"images/tfidf.jpg\" alt=\"Drawing\" style=\"width: 400px;\"/>\n",
    "**[Cosine Similarity](https://en.wikipedia.org/wiki/Cosine_similarity)**\n",
    "In this model, each item is stored as a vector of its attributes (which are also vectors) in an **n-dimensional space** and the angles between the vectors are calculated to **determine the similarity between the vectors**. \n",
    "<br> The user profile vectors are also created based on his WH.\n",
    "<br> Once we have the user/movie profile, the similarity between an item and a user can be determined in a similar way.\n",
    "    <img src=\"images/vector_space.png\" alt=\"Drawing\" style=\"width: 400px;\"/>\n",
    "**[1/2-Gram](https://www.quora.com/How-are-TF-IDF-vectorizers-with-n-gram-features-created)**\n",
    "<br> An n-gram is a contiguous sequence of n items from a given sample of text or speech\n",
    "\n",
    "                        0    Animation|Children's|Comedy\n",
    "                        Name: genres, dtype: object\n",
    "                        animation|children|comedy|animation children|children comedy\n",
    "                          (0, 29)\t0.49792764065786643\n",
    "                          (0, 37)\t0.40421250853461244\n",
    "                          (0, 45)\t0.23523321955508567\n",
    "                          (0, 30)\t0.521820712785304\n",
    "                          (0, 38)\t0.5109293383032849\n",
    " <br> For our case, we may have different Gram\n",
    "\n",
    "* ***Our Genres from Bam*** <br>\n",
    " \"Action & Adventure”, “Comedy Drama\", \"Children\", “Kids\",\"Thriller\", \"Suspense”, \"Dark comedy\",  “Suspense”,\n",
    "\"Adventure\", \"Animated\", \"Animation\", \"Comedy\", \"Children\", “Kids”, \"Music & Musical\", \"Musical comedy\"\n",
    " \"Horror\", \"Thriller\", “Suspense\",\"Documentary\", \"Music\", “Children\",”Sports”, ”Romance\",  \"Thriller\", \"Science fiction\", “Romance\",\n",
    "“Fantasy\",”Mystery\",\"Holiday\", “Holiday Drama”, \"Animated”,\"Other Sports\",\"Historical drama”,\"History\",\"Military & War\", “War\",\"Western\"\n",
    "\"Documentary\",\"Crime\", \"Crime drama”,\"Animated\", “Animation\",”Biography”, \"Erotic\", \"Adults only\""
   ]
  },
  {
   "cell_type": "markdown",
   "metadata": {},
   "source": [
    "* #### Data Preparation\n",
    "In this Demo, I prepared three CSV file for user, movie, rating.\n",
    "<br> For on-deman:\n",
    "<br> we need to create two profiles for both user and movies.\n",
    "<br> With the profile of user and movie, we can calculate their similarity."
   ]
  },
  {
   "cell_type": "markdown",
   "metadata": {},
   "source": [
    "\n",
    "\n",
    "### Implementation\n",
    "With all that theory in mind, I am going to build a Content-Based Recommendation Engine that computes similarity between movies based on movie genres. It will suggest movies that are most similar to a particular movie based on its genre. To do so, I will make use of the file **movies.csv**."
   ]
  },
  {
   "cell_type": "code",
   "execution_count": 19,
   "metadata": {
    "scrolled": true
   },
   "outputs": [
    {
     "name": "stdout",
     "output_type": "stream",
     "text": [
      "   user_id gender zipcode  age_desc              occ_desc\n",
      "0        1      F   48067  Under 18          K-12 student\n",
      "1        2      M   70072       56+         self-employed\n",
      "2        3      M   55117     25-34             scientist\n",
      "3        4      M   02460     45-49  executive/managerial\n",
      "4        5      M   55455     25-34                writer\n",
      "   movie_id                               title                        genres\n",
      "0         1                    Toy Story (1995)   Animation|Children's|Comedy\n",
      "1         2                      Jumanji (1995)  Adventure|Children's|Fantasy\n",
      "2         3             Grumpier Old Men (1995)                Comedy|Romance\n",
      "3         4            Waiting to Exhale (1995)                  Comedy|Drama\n",
      "4         5  Father of the Bride Part II (1995)                        Comedy\n",
      "   user_id  movie_id  rating\n",
      "0        1      1193       5\n",
      "1        1       661       3\n",
      "2        1       914       3\n",
      "3        1      3408       4\n",
      "4        1      2355       5\n"
     ]
    },
    {
     "data": {
      "text/plain": [
       "count    1.000209e+06\n",
       "mean     3.581564e+00\n",
       "std      1.117102e+00\n",
       "min      1.000000e+00\n",
       "25%      3.000000e+00\n",
       "50%      4.000000e+00\n",
       "75%      4.000000e+00\n",
       "max      5.000000e+00\n",
       "Name: rating, dtype: float64"
      ]
     },
     "execution_count": 19,
     "metadata": {},
     "output_type": "execute_result"
    }
   ],
   "source": [
    "import pandas as pd\n",
    "import numpy as np\n",
    "import matplotlib.pyplot as plt\n",
    "\n",
    "# Reading users file\n",
    "users = pd.read_csv('user.csv', sep='\\t', encoding='latin-1', usecols=['user_id', 'gender', 'zipcode', 'age_desc', 'occ_desc'])\n",
    "print(users.head())\n",
    "\n",
    "# Reading movies file\n",
    "AllMovies = pd.read_csv('movie.csv', sep='\\t', encoding='latin-1', usecols=['movie_id', 'title', 'genres'])\n",
    "print(AllMovies.head())\n",
    "\n",
    "ratings = pd.read_csv('rating.csv', sep='\\t', encoding='latin-1', usecols=['user_id', 'movie_id', 'rating'])\n",
    "print(ratings.head())\n",
    "ratings['rating'].describe()"
   ]
  },
  {
   "cell_type": "markdown",
   "metadata": {},
   "source": [
    "\n",
    "\n",
    "* #### Merged Dataset used"
   ]
  },
  {
   "cell_type": "code",
   "execution_count": 20,
   "metadata": {
    "scrolled": true
   },
   "outputs": [
    {
     "data": {
      "text/html": [
       "<div>\n",
       "<style scoped>\n",
       "    .dataframe tbody tr th:only-of-type {\n",
       "        vertical-align: middle;\n",
       "    }\n",
       "\n",
       "    .dataframe tbody tr th {\n",
       "        vertical-align: top;\n",
       "    }\n",
       "\n",
       "    .dataframe thead th {\n",
       "        text-align: right;\n",
       "    }\n",
       "</style>\n",
       "<table border=\"1\" class=\"dataframe\">\n",
       "  <thead>\n",
       "    <tr style=\"text-align: right;\">\n",
       "      <th></th>\n",
       "      <th>genres</th>\n",
       "      <th>rating</th>\n",
       "    </tr>\n",
       "  </thead>\n",
       "  <tbody>\n",
       "    <tr>\n",
       "      <th>0</th>\n",
       "      <td>Animation|Children's|Comedy</td>\n",
       "      <td>5</td>\n",
       "    </tr>\n",
       "    <tr>\n",
       "      <th>489283</th>\n",
       "      <td>Comedy|Drama</td>\n",
       "      <td>5</td>\n",
       "    </tr>\n",
       "    <tr>\n",
       "      <th>489259</th>\n",
       "      <td>Comedy</td>\n",
       "      <td>5</td>\n",
       "    </tr>\n",
       "    <tr>\n",
       "      <th>489257</th>\n",
       "      <td>Action|Sci-Fi|Thriller</td>\n",
       "      <td>5</td>\n",
       "    </tr>\n",
       "    <tr>\n",
       "      <th>489256</th>\n",
       "      <td>Drama|Thriller</td>\n",
       "      <td>5</td>\n",
       "    </tr>\n",
       "    <tr>\n",
       "      <th>489237</th>\n",
       "      <td>Comedy</td>\n",
       "      <td>5</td>\n",
       "    </tr>\n",
       "    <tr>\n",
       "      <th>489236</th>\n",
       "      <td>Crime|Thriller</td>\n",
       "      <td>5</td>\n",
       "    </tr>\n",
       "    <tr>\n",
       "      <th>489226</th>\n",
       "      <td>Documentary</td>\n",
       "      <td>5</td>\n",
       "    </tr>\n",
       "    <tr>\n",
       "      <th>489224</th>\n",
       "      <td>Comedy</td>\n",
       "      <td>5</td>\n",
       "    </tr>\n",
       "    <tr>\n",
       "      <th>489212</th>\n",
       "      <td>Comedy|Drama|Romance</td>\n",
       "      <td>5</td>\n",
       "    </tr>\n",
       "  </tbody>\n",
       "</table>\n",
       "</div>"
      ],
      "text/plain": [
       "                             genres  rating\n",
       "0       Animation|Children's|Comedy       5\n",
       "489283                 Comedy|Drama       5\n",
       "489259                       Comedy       5\n",
       "489257       Action|Sci-Fi|Thriller       5\n",
       "489256               Drama|Thriller       5\n",
       "489237                       Comedy       5\n",
       "489236               Crime|Thriller       5\n",
       "489226                  Documentary       5\n",
       "489224                       Comedy       5\n",
       "489212         Comedy|Drama|Romance       5"
      ]
     },
     "execution_count": 20,
     "metadata": {},
     "output_type": "execute_result"
    }
   ],
   "source": [
    "# Join all 3 files into one dataframe\n",
    "dataset = pd.merge(pd.merge(AllMovies, ratings),users)\n",
    "# Display 20 movies with highest ratings\n",
    "dataset[['genres','rating']].sort_values('rating', ascending=False).head(10)"
   ]
  },
  {
   "cell_type": "markdown",
   "metadata": {},
   "source": [
    "* #### WatchHistory\n",
    "It will be used to create user profile"
   ]
  },
  {
   "cell_type": "code",
   "execution_count": 21,
   "metadata": {},
   "outputs": [
    {
     "name": "stdout",
     "output_type": "stream",
     "text": [
      "   user_id                                genres\n",
      "0        1           Animation|Children's|Comedy\n",
      "1        1  Animation|Children's|Musical|Romance\n",
      "2        1                                 Drama\n",
      "3        1       Action|Adventure|Fantasy|Sci-Fi\n",
      "4        1                             Drama|War\n",
      "5        1                      Children's|Drama\n",
      "6        1   Animation|Children's|Comedy|Musical\n",
      "7        1          Animation|Children's|Musical\n",
      "8        1          Animation|Children's|Musical\n",
      "9        1                  Crime|Drama|Thriller\n"
     ]
    }
   ],
   "source": [
    "dataset.head(10)\n",
    "watchHistory = dataset[['user_id', 'genres']]\n",
    "print(watchHistory.head(10))"
   ]
  },
  {
   "cell_type": "markdown",
   "metadata": {},
   "source": [
    "* #### TopK algo \n",
    "<br> Top K algo based on WH"
   ]
  },
  {
   "cell_type": "code",
   "execution_count": null,
   "metadata": {},
   "outputs": [],
   "source": [
    "def topK(dataset, movies, ref_col, census, K):\n",
    "    keyword_count = dict()\n",
    "    popularDataSet = pd.DataFrame()\n",
    "    for s in census: \n",
    "        keyword_count[s] = 0\n",
    "    for census_keywords in dataset[ref_col]:     \n",
    "        if type(census_keywords) == float and pd.isnull(census_keywords): \n",
    "            continue        \n",
    "        #for s in [s for s in census_keywords if s in census]: \n",
    "        if pd.notnull(s): \n",
    "            #print(census_keywords)\n",
    "            keyword_count[census_keywords] += 1\n",
    "    keyword_occurences = []\n",
    "    for k,v in keyword_count.items():\n",
    "        keyword_occurences.append([k,v])\n",
    "    keyword_occurences.sort(key = lambda x:x[1], reverse = True)\n",
    "    cur = 0\n",
    "    for k in keyword_occurences:\n",
    "        cur += 1\n",
    "        #print(cur)\n",
    "        tmp = (movies.loc[lambda movies: movies['movie_id'] == int(k[0])])\n",
    "        popularDataSet = popularDataSet.append(tmp)\n",
    "        \n",
    "        if cur >= K:\n",
    "            break\n",
    "    print(popularDataSet.size)\n",
    "    return popularDataSet, keyword_occurences[0:K]\n",
    "popularityMovies = pd.DataFrame()\n",
    "popularityMovies, keyword_occurences = topK(dataset, AllMovies, 'movie_id', AllMovies['movie_id'], 5000)\n",
    "print(popularityMovies.size)\n",
    "print(popularityMovies.head(10))\n",
    "\n",
    "print(keyword_occurences)\n",
    "    "
   ]
  },
  {
   "cell_type": "markdown",
   "metadata": {},
   "source": [
    "Movies will be used to create movie profile "
   ]
  },
  {
   "cell_type": "code",
   "execution_count": 5,
   "metadata": {},
   "outputs": [
    {
     "name": "stdout",
     "output_type": "stream",
     "text": [
      "2789                           Comedy|Drama\n",
      "257         Action|Adventure|Fantasy|Sci-Fi\n",
      "1178      Action|Adventure|Drama|Sci-Fi|War\n",
      "1192    Action|Adventure|Romance|Sci-Fi|War\n",
      "476                 Action|Adventure|Sci-Fi\n",
      "1959                       Action|Drama|War\n",
      "585                  Action|Sci-Fi|Thriller\n",
      "2502                 Action|Sci-Fi|Thriller\n",
      "1250                          Comedy|Sci-Fi\n",
      "589                          Drama|Thriller\n",
      "1539         Action|Adventure|Comedy|Sci-Fi\n",
      "1180                       Action|Adventure\n",
      "604                    Crime|Drama|Thriller\n",
      "2693                               Thriller\n",
      "108                        Action|Drama|War\n",
      "2327                         Comedy|Romance\n",
      "1179        Action|Adventure|Comedy|Romance\n",
      "523                               Drama|War\n",
      "1575       Crime|Film-Noir|Mystery|Thriller\n",
      "1245                         Comedy|Romance\n",
      "1081        Children's|Drama|Fantasy|Sci-Fi\n",
      "2559        Action|Adventure|Fantasy|Sci-Fi\n",
      "2928                                 Comedy\n",
      "315                                   Drama\n",
      "847                      Action|Crime|Drama\n",
      "352                      Comedy|Romance|War\n",
      "2647                          Comedy|Horror\n",
      "293                             Crime|Drama\n",
      "1220                 Action|Sci-Fi|Thriller\n",
      "0               Animation|Children's|Comedy\n",
      "                       ...                 \n",
      "3101                                Western\n",
      "3122                                  Drama\n",
      "3124                            Documentary\n",
      "3126                                  Drama\n",
      "3157                            Documentary\n",
      "3158                  Comedy|Drama|Thriller\n",
      "3162                                 Comedy\n",
      "3165                                 Comedy\n",
      "3209                            Documentary\n",
      "3210                       Action|Adventure\n",
      "3263                   Adventure|Children's\n",
      "3279                         Crime|Thriller\n",
      "3287                            Documentary\n",
      "3300                                  Crime\n",
      "3314                          Drama|Musical\n",
      "3342                                  Drama\n",
      "3386                         Drama|Thriller\n",
      "3472                                 Action\n",
      "3489                                  Drama\n",
      "3491                                  Drama\n",
      "3492                                  Drama\n",
      "3513                                  Drama\n",
      "3514                                  Drama\n",
      "3520                                 Horror\n",
      "3561                                 Horror\n",
      "3581                                 Horror\n",
      "3681                                  Drama\n",
      "3759                         Comedy|Romance\n",
      "3786                                  Drama\n",
      "3837                                  Drama\n",
      "Name: genres, Length: 3883, dtype: object\n",
      "2789                                  ['Comedy', 'Drama']\n",
      "257          ['Action', 'Adventure', 'Fantasy', 'Sci-Fi']\n",
      "1178    ['Action', 'Adventure', 'Drama', 'Sci-Fi', 'War']\n",
      "1192    ['Action', 'Adventure', 'Romance', 'Sci-Fi', '...\n",
      "476                     ['Action', 'Adventure', 'Sci-Fi']\n",
      "1959                           ['Action', 'Drama', 'War']\n",
      "585                      ['Action', 'Sci-Fi', 'Thriller']\n",
      "2502                     ['Action', 'Sci-Fi', 'Thriller']\n",
      "1250                                 ['Comedy', 'Sci-Fi']\n",
      "589                                 ['Drama', 'Thriller']\n",
      "1539          ['Action', 'Adventure', 'Comedy', 'Sci-Fi']\n",
      "1180                              ['Action', 'Adventure']\n",
      "604                        ['Crime', 'Drama', 'Thriller']\n",
      "2693                                         ['Thriller']\n",
      "108                            ['Action', 'Drama', 'War']\n",
      "2327                                ['Comedy', 'Romance']\n",
      "1179         ['Action', 'Adventure', 'Comedy', 'Romance']\n",
      "523                                      ['Drama', 'War']\n",
      "1575        ['Crime', 'Film-Noir', 'Mystery', 'Thriller']\n",
      "1245                                ['Comedy', 'Romance']\n",
      "1081         [\"Children's\", 'Drama', 'Fantasy', 'Sci-Fi']\n",
      "2559         ['Action', 'Adventure', 'Fantasy', 'Sci-Fi']\n",
      "2928                                           ['Comedy']\n",
      "315                                             ['Drama']\n",
      "847                          ['Action', 'Crime', 'Drama']\n",
      "352                          ['Comedy', 'Romance', 'War']\n",
      "2647                                 ['Comedy', 'Horror']\n",
      "293                                    ['Crime', 'Drama']\n",
      "1220                     ['Action', 'Sci-Fi', 'Thriller']\n",
      "0                   ['Animation', \"Children's\", 'Comedy']\n",
      "                              ...                        \n",
      "3101                                          ['Western']\n",
      "3122                                            ['Drama']\n",
      "3124                                      ['Documentary']\n",
      "3126                                            ['Drama']\n",
      "3157                                      ['Documentary']\n",
      "3158                      ['Comedy', 'Drama', 'Thriller']\n",
      "3162                                           ['Comedy']\n",
      "3165                                           ['Comedy']\n",
      "3209                                      ['Documentary']\n",
      "3210                              ['Action', 'Adventure']\n",
      "3263                          ['Adventure', \"Children's\"]\n",
      "3279                                ['Crime', 'Thriller']\n",
      "3287                                      ['Documentary']\n",
      "3300                                            ['Crime']\n",
      "3314                                 ['Drama', 'Musical']\n",
      "3342                                            ['Drama']\n",
      "3386                                ['Drama', 'Thriller']\n",
      "3472                                           ['Action']\n",
      "3489                                            ['Drama']\n",
      "3491                                            ['Drama']\n",
      "3492                                            ['Drama']\n",
      "3513                                            ['Drama']\n",
      "3514                                            ['Drama']\n",
      "3520                                           ['Horror']\n",
      "3561                                           ['Horror']\n",
      "3581                                           ['Horror']\n",
      "3681                                            ['Drama']\n",
      "3759                                ['Comedy', 'Romance']\n",
      "3786                                            ['Drama']\n",
      "3837                                            ['Drama']\n",
      "Name: genres, Length: 3883, dtype: object\n"
     ]
    }
   ],
   "source": [
    "movies = popularityMovies\n",
    "print(movies['genres'])\n",
    "# Break up the big genre string into a string array\n",
    "movies['genres'] = movies['genres'].str.split('|')\n",
    "# Convert genres to string value\n",
    "movies['genres'] = movies['genres'].fillna(\"\").astype('str')\n",
    "print(movies['genres'])"
   ]
  },
  {
   "cell_type": "markdown",
   "metadata": {},
   "source": [
    "### Lets start to create matrix\n",
    "<br>Movie/User profile \n",
    "<br>Convert a collection of raw documents to a matrix of TF-IDF features.\n",
    "\n",
    "<br> Movie Profile from Movie Metadata:"
   ]
  },
  {
   "cell_type": "code",
   "execution_count": 6,
   "metadata": {},
   "outputs": [
    {
     "name": "stdout",
     "output_type": "stream",
     "text": [
      "      movie_id                                      title  \\\n",
      "2789      2858                     American Beauty (1999)   \n",
      "257        260  Star Wars: Episode IV - A New Hope (1977)   \n",
      "\n",
      "                                            genres  \n",
      "2789                           ['Comedy', 'Drama']  \n",
      "257   ['Action', 'Adventure', 'Fantasy', 'Sci-Fi']  \n",
      "127\n",
      "comedy|drama|comedy drama|action|adventure|fantasy|sci|fi|action adventure|adventure fantasy|fantasy sci|sci fi\n",
      "  (0, 45)\t0.44898589583946386\n",
      "  (0, 72)\t0.38922070282647575\n",
      "  (0, 48)\t0.8043126940615187\n",
      "  (1, 0)\t0.21752151760260852\n",
      "  (1, 14)\t0.258536953612869\n",
      "  (1, 83)\t0.3597071272924552\n",
      "  (1, 119)\t0.26032148572733815\n",
      "  (1, 88)\t0.26032148572733815\n",
      "  (1, 1)\t0.31496600199160996\n",
      "  (1, 20)\t0.4737611821219671\n",
      "  (1, 86)\t0.479060275624473\n",
      "  (1, 120)\t0.26032148572733815\n"
     ]
    }
   ],
   "source": [
    "from sklearn.feature_extraction.text import TfidfVectorizer\n",
    "tf = TfidfVectorizer(analyzer='word',ngram_range=(1, 2),min_df=0, stop_words='english')\n",
    "print(movies.head(2))\n",
    "movie_profile = tf.fit_transform(movies['genres'])\n",
    "feature_names = tf.get_feature_names()\n",
    "print(len(feature_names))\n",
    "print(feature_names[45], feature_names[72],feature_names[48], feature_names[0], feature_names[14], \n",
    "      feature_names[83], feature_names[119],feature_names[88], feature_names[1], feature_names[20],\n",
    "      feature_names[86], feature_names[120],\n",
    "      sep='|')\n",
    "print(movie_profile[:2])"
   ]
  },
  {
   "cell_type": "markdown",
   "metadata": {},
   "source": [
    "User Profile from WH:"
   ]
  },
  {
   "cell_type": "code",
   "execution_count": 7,
   "metadata": {},
   "outputs": [
    {
     "name": "stdout",
     "output_type": "stream",
     "text": [
      "    user_id  movie_id  rating\n",
      "0         1      1193       5\n",
      "1         1       661       3\n",
      "2         1       914       3\n",
      "3         1      3408       4\n",
      "4         1      2355       5\n",
      "5         1      1197       3\n",
      "6         1      1287       5\n",
      "7         1      2804       5\n",
      "8         1       594       4\n",
      "9         1       919       4\n",
      "10        1       595       5\n",
      "11        1       938       4\n",
      "12        1      2398       4\n",
      "13        1      2918       4\n",
      "14        1      1035       5\n",
      "15        1      2791       4\n",
      "16        1      2687       3\n",
      "17        1      2018       4\n",
      "18        1      3105       5\n",
      "19        1      2797       4\n",
      "20        1      2321       3\n",
      "21        1       720       3\n",
      "22        1      1270       5\n",
      "23        1       527       5\n",
      "24        1      2340       3\n",
      "25        1        48       5\n",
      "26        1      1097       4\n",
      "27        1      1721       4\n",
      "28        1      1545       4\n",
      "29        1       745       3\n",
      "30        1      2294       4\n",
      "31        1      3186       4\n",
      "32        1      1566       4\n",
      "33        1       588       4\n",
      "34        1      1907       4\n",
      "35        1       783       4\n",
      "36        1      1836       5\n",
      "37        1      1022       5\n",
      "38        1      2762       4\n",
      "39        1       150       5\n",
      "40        1         1       5\n",
      "41        1      1961       5\n",
      "42        1      1962       4\n",
      "43        1      2692       4\n",
      "44        1       260       4\n",
      "45        1      1028       5\n",
      "46        1      1029       5\n",
      "47        1      1207       4\n",
      "48        1      2028       5\n",
      "49        1       531       4\n",
      "50        1      3114       4\n",
      "51        1       608       4\n",
      "52        1      1246       4\n"
     ]
    }
   ],
   "source": [
    "print(ratings.loc[lambda ratings: ratings['user_id'] == 1])"
   ]
  },
  {
   "cell_type": "code",
   "execution_count": 8,
   "metadata": {},
   "outputs": [
    {
     "name": "stdout",
     "output_type": "stream",
     "text": [
      "   movie_id              title                                genres  user_id  \\\n",
      "0         1   Toy Story (1995)           Animation|Children's|Comedy        1   \n",
      "1        48  Pocahontas (1995)  Animation|Children's|Musical|Romance        1   \n",
      "\n",
      "   rating gender zipcode  age_desc      occ_desc  \n",
      "0       5      F   48067  Under 18  K-12 student  \n",
      "1       5      F   48067  Under 18  K-12 student  \n",
      "animation|children|animation children|musical|romance|children musical|musical romance\n",
      "  (0, 29)\t0.4837968178823387\n",
      "  (0, 37)\t0.42405235813507347\n",
      "  (0, 45)\t0.23739089261783358\n",
      "  (0, 30)\t0.5138586049354334\n",
      "  (0, 38)\t0.5154756393884438\n",
      "  (1, 29)\t0.348001467565544\n",
      "  (1, 37)\t0.3050264852951659\n",
      "  (1, 30)\t0.36962530969396445\n",
      "  (1, 100)\t0.3514900711161935\n",
      "  (1, 114)\t0.2449466944566168\n",
      "  (1, 42)\t0.47270271583983325\n",
      "  (1, 101)\t0.4921777539603983\n",
      "(1000209, 127)\n"
     ]
    }
   ],
   "source": [
    "print(dataset.head(2))\n",
    "user_profile = tf.fit_transform(watchHistory['genres'])\n",
    "feature_names = tf.get_feature_names()\n",
    "#print(len(feature_names))\n",
    "print(feature_names[29], feature_names[37],feature_names[30], feature_names[100], \n",
    "      feature_names[114], feature_names[42], feature_names[101], sep='|')\n",
    "print(user_profile[:2])\n",
    "print(user_profile.shape)"
   ]
  },
  {
   "cell_type": "markdown",
   "metadata": {},
   "source": [
    "First, lets calculate similarity between each movie using Cosine Similarity. "
   ]
  },
  {
   "cell_type": "code",
   "execution_count": 9,
   "metadata": {},
   "outputs": [
    {
     "name": "stdout",
     "output_type": "stream",
     "text": [
      "3883\n",
      "(3883, 3883)\n",
      "(3883,)\n",
      "[[1.         0.         0.04820848 0.        ]\n",
      " [0.         1.         0.38301    0.36296304]\n",
      " [0.04820848 0.38301    1.         0.62054267]\n",
      " [0.         0.36296304 0.62054267 1.        ]]\n"
     ]
    }
   ],
   "source": [
    "from sklearn.metrics.pairwise import linear_kernel\n",
    "movie_movie_sim = linear_kernel(movie_profile, movie_profile)\n",
    "print(movies.shape[0])\n",
    "print(movie_movie_sim.shape)\n",
    "print(movie_movie_sim[4].shape)\n",
    "print(movie_movie_sim[:4, :4])"
   ]
  },
  {
   "cell_type": "code",
   "execution_count": 10,
   "metadata": {},
   "outputs": [
    {
     "name": "stdout",
     "output_type": "stream",
     "text": [
      "(3883, 127) (1000209, 127)\n",
      "3883\n",
      "(5000, 3883)\n",
      "(3883,)\n",
      "[[0.10658516 0.         0.         0.         0.         0.\n",
      "  0.         0.         0.05714765 0.        ]\n",
      " [0.         0.         0.         0.04741517 0.         0.\n",
      "  0.         0.         0.         0.        ]\n",
      " [0.3892207  0.         0.12385899 0.         0.         0.20739437\n",
      "  0.         0.         0.         0.3165589 ]\n",
      " [0.         0.99936687 0.37267247 0.35316657 0.53501323 0.06972072\n",
      "  0.31895904 0.31895904 0.30453182 0.        ]\n",
      " [0.12798762 0.         0.2084481  0.15894096 0.         0.76542706\n",
      "  0.         0.         0.         0.1040942 ]\n",
      " [0.10879787 0.         0.03462199 0.         0.         0.05797242\n",
      "  0.         0.         0.         0.0884869 ]\n",
      " [0.08391139 0.         0.         0.         0.         0.\n",
      "  0.         0.         0.04499068 0.        ]\n",
      " [0.         0.         0.         0.         0.         0.\n",
      "  0.         0.         0.         0.        ]\n",
      " [0.         0.         0.         0.         0.         0.\n",
      "  0.         0.         0.         0.        ]\n",
      " [0.09955795 0.         0.03168163 0.         0.         0.05304897\n",
      "  0.09657496 0.09657496 0.         0.71506007]]\n"
     ]
    }
   ],
   "source": [
    "print(movie_profile.shape, user_profile.shape)\n",
    "user_movie_sim = linear_kernel(user_profile[0:5000],movie_profile)\n",
    "print(movies.shape[0])\n",
    "print(user_movie_sim.shape)\n",
    "print(user_movie_sim[4].shape)\n",
    "print(user_movie_sim[:10,:10])"
   ]
  },
  {
   "cell_type": "markdown",
   "metadata": {},
   "source": [
    "I now have a pairwise cosine similarity matrix for all the movies in the dataset. The next step is to write a function that returns the 20 most similar movies based on the cosine similarity score."
   ]
  },
  {
   "cell_type": "code",
   "execution_count": 11,
   "metadata": {},
   "outputs": [],
   "source": [
    "# Build a 1-dimensional array with movie titles\n",
    "titles = movies['title']\n",
    "indices = pd.Series(movies.index, index=movies['title'])\n",
    "\n",
    "# sort cosine similarity \n",
    "def getSimilarMovies(title):\n",
    "    idx = indices[title]\n",
    "    sim_scores = list(enumerate(movie_movie_sim[idx]))\n",
    "    sim_scores = sorted(sim_scores, key=lambda x: x[1], reverse=True)\n",
    "    sim_scores = sim_scores[1:21]\n",
    "    movie_indices = [i[0] for i in sim_scores]\n",
    "    return titles.iloc[movie_indices]\n",
    "\n",
    "def getRecommendation(userId):\n",
    "    #idx = indices[userId]\n",
    "    sim_scores = list(enumerate(user_movie_sim[userId]))\n",
    "    sim_scores = sorted(sim_scores, key=lambda x: x[1], reverse=True)\n",
    "    sim_scores = sim_scores[1:21]\n",
    "    movie_indices = [i[0] for i in sim_scores]\n",
    "    return titles.iloc[movie_indices]"
   ]
  },
  {
   "cell_type": "markdown",
   "metadata": {},
   "source": [
    "Let's try and get the top recommendations for a few movies and see how good the recommendations are."
   ]
  },
  {
   "cell_type": "code",
   "execution_count": 12,
   "metadata": {},
   "outputs": [
    {
     "data": {
      "text/plain": [
       "160                                          Crumb (1994)\n",
       "2938                                American Movie (1999)\n",
       "1131                            When We Were Kings (1996)\n",
       "1172                           Thin Blue Line, The (1988)\n",
       "2790                             Stop Making Sense (1984)\n",
       "2608                       Buena Vista Social Club (1999)\n",
       "2624                                      Trekkies (1997)\n",
       "1174                        Madonna: Truth or Dare (1991)\n",
       "1603                  Fast, Cheap & Out of Control (1997)\n",
       "1737                                       Everest (1998)\n",
       "1340    Paradise Lost: The Child Murders at Robin Hood...\n",
       "545       Thirty-Two Short Films About Glenn Gould (1993)\n",
       "3584                           Endless Summer, The (1966)\n",
       "577                          Celluloid Closet, The (1995)\n",
       "3258                                Beyond the Mat (2000)\n",
       "552                                  War Room, The (1993)\n",
       "3113    Mr. Death: The Rise and Fall of Fred A. Leucht...\n",
       "1175                              Paris Is Burning (1990)\n",
       "1095    Microcosmos (Microcosmos: Le peuple de l'herbe...\n",
       "2261                          Hands on a Hard Body (1996)\n",
       "Name: title, dtype: object"
      ]
     },
     "execution_count": 12,
     "metadata": {},
     "output_type": "execute_result"
    }
   ],
   "source": [
    "getSimilarMovies('Chicken Run (2000)').head(20)"
   ]
  },
  {
   "cell_type": "code",
   "execution_count": 13,
   "metadata": {},
   "outputs": [
    {
     "data": {
      "text/plain": [
       "3039                             Fisher King, The (1991)\n",
       "2179                              Say Anything... (1989)\n",
       "2174                               Broadcast News (1987)\n",
       "1224                                    Manhattan (1979)\n",
       "2076                               Pretty in Pink (1986)\n",
       "1156                              Cinema Paradiso (1988)\n",
       "3616                               Prizzi's Honor (1985)\n",
       "827                                          Emma (1996)\n",
       "1996                    Purple Rose of Cairo, The (1985)\n",
       "3192                                      Singles (1992)\n",
       "1819                                  Hope Floats (1998)\n",
       "221                              Don Juan DeMarco (1995)\n",
       "2193                          About Last Night... (1986)\n",
       "1826                            Can't Hardly Wait (1998)\n",
       "3238                                  City Lights (1931)\n",
       "347                              Corrina, Corrina (1994)\n",
       "1193    Wings of Desire (Der Himmel Ã¼ber Berlin) (1987)\n",
       "1503                                  Brassed Off (1996)\n",
       "2102                        Next Stop, Wonderland (1998)\n",
       "193                       Something to Talk About (1995)\n",
       "Name: title, dtype: object"
      ]
     },
     "execution_count": 13,
     "metadata": {},
     "output_type": "execute_result"
    }
   ],
   "source": [
    "getSimilarMovies('Toy Story 2 (1999)').head(20)"
   ]
  },
  {
   "cell_type": "code",
   "execution_count": 14,
   "metadata": {},
   "outputs": [
    {
     "name": "stdout",
     "output_type": "stream",
     "text": [
      "    movie_id                                              title  \\\n",
      "0          1                                   Toy Story (1995)   \n",
      "1         48                                  Pocahontas (1995)   \n",
      "2        150                                   Apollo 13 (1995)   \n",
      "3        260          Star Wars: Episode IV - A New Hope (1977)   \n",
      "4        527                            Schindler's List (1993)   \n",
      "5        531                          Secret Garden, The (1993)   \n",
      "6        588                                     Aladdin (1992)   \n",
      "7        594             Snow White and the Seven Dwarfs (1937)   \n",
      "8        595                        Beauty and the Beast (1991)   \n",
      "9        608                                       Fargo (1996)   \n",
      "10       661                   James and the Giant Peach (1996)   \n",
      "11       720  Wallace & Gromit: The Best of Aardman Animatio...   \n",
      "12       745                              Close Shave, A (1995)   \n",
      "13       783                Hunchback of Notre Dame, The (1996)   \n",
      "14       914                                My Fair Lady (1964)   \n",
      "15       919                           Wizard of Oz, The (1939)   \n",
      "16       938                                        Gigi (1958)   \n",
      "17      1022                                  Cinderella (1950)   \n",
      "18      1028                                Mary Poppins (1964)   \n",
      "19      1029                                       Dumbo (1941)   \n",
      "20      1035                         Sound of Music, The (1965)   \n",
      "21      1097                  E.T. the Extra-Terrestrial (1982)   \n",
      "22      1193             One Flew Over the Cuckoo's Nest (1975)   \n",
      "23      1197                         Princess Bride, The (1987)   \n",
      "24      1207                       To Kill a Mockingbird (1962)   \n",
      "25      1246                          Dead Poets Society (1989)   \n",
      "26      1270                          Back to the Future (1985)   \n",
      "27      1287                                     Ben-Hur (1959)   \n",
      "28      1545                                     Ponette (1996)   \n",
      "29      1566                                    Hercules (1997)   \n",
      "..       ...                                                ...   \n",
      "70       912                                  Casablanca (1942)   \n",
      "71       914                                My Fair Lady (1964)   \n",
      "72       920                          Gone with the Wind (1939)   \n",
      "73      1007                    Apple Dumpling Gang, The (1975)   \n",
      "74      1028                                Mary Poppins (1964)   \n",
      "75      1030                               Pete's Dragon (1977)   \n",
      "76      1035                         Sound of Music, The (1965)   \n",
      "77      1043             To Gillian on Her 37th Birthday (1996)   \n",
      "78      1088                               Dirty Dancing (1987)   \n",
      "79      1101                                     Top Gun (1986)   \n",
      "80      1188                           Strictly Ballroom (1992)   \n",
      "81      1210  Star Wars: Episode VI - Return of the Jedi (1983)   \n",
      "82      1296                         Room with a View, A (1986)   \n",
      "83      1380                                      Grease (1978)   \n",
      "84      1441                                Benny & Joon (1993)   \n",
      "85      1566                                    Hercules (1997)   \n",
      "86      1569                    My Best Friend's Wedding (1997)   \n",
      "87      1674                                     Witness (1985)   \n",
      "88      1688                                   Anastasia (1997)   \n",
      "89      1806                                      Paulie (1998)   \n",
      "90      1947                             West Side Story (1961)   \n",
      "91      1959                               Out of Africa (1985)   \n",
      "92      2006                          Mask of Zorro, The (1998)   \n",
      "93      2017                            Babes in Toyland (1961)   \n",
      "94      2081                         Little Mermaid, The (1989)   \n",
      "95      2082                           Mighty Ducks, The (1992)   \n",
      "96      2100                                      Splash (1984)   \n",
      "97      2321                               Pleasantville (1998)   \n",
      "98      2396                         Shakespeare in Love (1998)   \n",
      "99      2406                         Romancing the Stone (1984)   \n",
      "\n",
      "                                           genres  user_id  rating gender  \\\n",
      "0                     Animation|Children's|Comedy        1       5      F   \n",
      "1            Animation|Children's|Musical|Romance        1       5      F   \n",
      "2                                           Drama        1       5      F   \n",
      "3                 Action|Adventure|Fantasy|Sci-Fi        1       4      F   \n",
      "4                                       Drama|War        1       5      F   \n",
      "5                                Children's|Drama        1       4      F   \n",
      "6             Animation|Children's|Comedy|Musical        1       4      F   \n",
      "7                    Animation|Children's|Musical        1       4      F   \n",
      "8                    Animation|Children's|Musical        1       5      F   \n",
      "9                            Crime|Drama|Thriller        1       4      F   \n",
      "10                   Animation|Children's|Musical        1       3      F   \n",
      "11                                      Animation        1       3      F   \n",
      "12                      Animation|Comedy|Thriller        1       3      F   \n",
      "13                   Animation|Children's|Musical        1       4      F   \n",
      "14                                Musical|Romance        1       3      F   \n",
      "15             Adventure|Children's|Drama|Musical        1       4      F   \n",
      "16                                        Musical        1       4      F   \n",
      "17                   Animation|Children's|Musical        1       5      F   \n",
      "18                      Children's|Comedy|Musical        1       5      F   \n",
      "19                   Animation|Children's|Musical        1       5      F   \n",
      "20                                        Musical        1       5      F   \n",
      "21                Children's|Drama|Fantasy|Sci-Fi        1       4      F   \n",
      "22                                          Drama        1       5      F   \n",
      "23                Action|Adventure|Comedy|Romance        1       3      F   \n",
      "24                                          Drama        1       4      F   \n",
      "25                                          Drama        1       4      F   \n",
      "26                                  Comedy|Sci-Fi        1       5      F   \n",
      "27                         Action|Adventure|Drama        1       5      F   \n",
      "28                                          Drama        1       4      F   \n",
      "29  Adventure|Animation|Children's|Comedy|Musical        1       4      F   \n",
      "..                                            ...      ...     ...    ...   \n",
      "70                              Drama|Romance|War        6       4      F   \n",
      "71                                Musical|Romance        6       5      F   \n",
      "72                              Drama|Romance|War        6       4      F   \n",
      "73                      Children's|Comedy|Western        6       3      F   \n",
      "74                      Children's|Comedy|Musical        6       4      F   \n",
      "75         Adventure|Animation|Children's|Musical        6       4      F   \n",
      "76                                        Musical        6       5      F   \n",
      "77                                  Drama|Romance        6       4      F   \n",
      "78                                Musical|Romance        6       5      F   \n",
      "79                                 Action|Romance        6       4      F   \n",
      "80                                 Comedy|Romance        6       4      F   \n",
      "81            Action|Adventure|Romance|Sci-Fi|War        6       3      F   \n",
      "82                                  Drama|Romance        6       3      F   \n",
      "83                         Comedy|Musical|Romance        6       5      F   \n",
      "84                                 Comedy|Romance        6       4      F   \n",
      "85  Adventure|Animation|Children's|Comedy|Musical        6       4      F   \n",
      "86                                 Comedy|Romance        6       4      F   \n",
      "87                         Drama|Romance|Thriller        6       4      F   \n",
      "88                   Animation|Children's|Musical        6       5      F   \n",
      "89                    Adventure|Children's|Comedy        6       3      F   \n",
      "90                                Musical|Romance        6       5      F   \n",
      "91                                  Drama|Romance        6       3      F   \n",
      "92                       Action|Adventure|Romance        6       4      F   \n",
      "93                     Children's|Fantasy|Musical        6       3      F   \n",
      "94    Animation|Children's|Comedy|Musical|Romance        6       4      F   \n",
      "95                              Children's|Comedy        6       3      F   \n",
      "96                         Comedy|Fantasy|Romance        6       3      F   \n",
      "97                                         Comedy        6       3      F   \n",
      "98                                 Comedy|Romance        6       4      F   \n",
      "99                Action|Adventure|Comedy|Romance        6       5      F   \n",
      "\n",
      "   zipcode  age_desc      occ_desc  \n",
      "0    48067  Under 18  K-12 student  \n",
      "1    48067  Under 18  K-12 student  \n",
      "2    48067  Under 18  K-12 student  \n",
      "3    48067  Under 18  K-12 student  \n",
      "4    48067  Under 18  K-12 student  \n",
      "5    48067  Under 18  K-12 student  \n",
      "6    48067  Under 18  K-12 student  \n",
      "7    48067  Under 18  K-12 student  \n",
      "8    48067  Under 18  K-12 student  \n",
      "9    48067  Under 18  K-12 student  \n",
      "10   48067  Under 18  K-12 student  \n",
      "11   48067  Under 18  K-12 student  \n",
      "12   48067  Under 18  K-12 student  \n",
      "13   48067  Under 18  K-12 student  \n",
      "14   48067  Under 18  K-12 student  \n",
      "15   48067  Under 18  K-12 student  \n",
      "16   48067  Under 18  K-12 student  \n",
      "17   48067  Under 18  K-12 student  \n",
      "18   48067  Under 18  K-12 student  \n",
      "19   48067  Under 18  K-12 student  \n",
      "20   48067  Under 18  K-12 student  \n",
      "21   48067  Under 18  K-12 student  \n",
      "22   48067  Under 18  K-12 student  \n",
      "23   48067  Under 18  K-12 student  \n",
      "24   48067  Under 18  K-12 student  \n",
      "25   48067  Under 18  K-12 student  \n",
      "26   48067  Under 18  K-12 student  \n",
      "27   48067  Under 18  K-12 student  \n",
      "28   48067  Under 18  K-12 student  \n",
      "29   48067  Under 18  K-12 student  \n",
      "..     ...       ...           ...  \n",
      "70   55117     50-55     homemaker  \n",
      "71   55117     50-55     homemaker  \n",
      "72   55117     50-55     homemaker  \n",
      "73   55117     50-55     homemaker  \n",
      "74   55117     50-55     homemaker  \n",
      "75   55117     50-55     homemaker  \n",
      "76   55117     50-55     homemaker  \n",
      "77   55117     50-55     homemaker  \n",
      "78   55117     50-55     homemaker  \n",
      "79   55117     50-55     homemaker  \n",
      "80   55117     50-55     homemaker  \n",
      "81   55117     50-55     homemaker  \n",
      "82   55117     50-55     homemaker  \n",
      "83   55117     50-55     homemaker  \n",
      "84   55117     50-55     homemaker  \n",
      "85   55117     50-55     homemaker  \n",
      "86   55117     50-55     homemaker  \n",
      "87   55117     50-55     homemaker  \n",
      "88   55117     50-55     homemaker  \n",
      "89   55117     50-55     homemaker  \n",
      "90   55117     50-55     homemaker  \n",
      "91   55117     50-55     homemaker  \n",
      "92   55117     50-55     homemaker  \n",
      "93   55117     50-55     homemaker  \n",
      "94   55117     50-55     homemaker  \n",
      "95   55117     50-55     homemaker  \n",
      "96   55117     50-55     homemaker  \n",
      "97   55117     50-55     homemaker  \n",
      "98   55117     50-55     homemaker  \n",
      "99   55117     50-55     homemaker  \n",
      "\n",
      "[100 rows x 9 columns]\n"
     ]
    }
   ],
   "source": [
    "print(dataset.head(100))\n"
   ]
  },
  {
   "cell_type": "code",
   "execution_count": 15,
   "metadata": {},
   "outputs": [
    {
     "data": {
      "text/plain": [
       "3200                                 Forever Young (1992)\n",
       "1630                             Starship Troopers (1997)\n",
       "1937                            Mask of Zorro, The (1998)\n",
       "14                                Cutthroat Island (1995)\n",
       "740     Dr. Strangelove or: How I Learned to Stop Worr...\n",
       "957                             African Queen, The (1951)\n",
       "1178    Star Wars: Episode V - The Empire Strikes Back...\n",
       "2525                Open Your Eyes (Abre los ojos) (1997)\n",
       "770                         Independence Day (ID4) (1996)\n",
       "2593                        War of the Worlds, The (1953)\n",
       "2612                               Free Enterprise (1998)\n",
       "3569                                     Moonraker (1979)\n",
       "3630                                       Starman (1984)\n",
       "2753                                  Medicine Man (1992)\n",
       "1564                                Excess Baggage (1997)\n",
       "1198                 Big Blue, The (Le Grand Bleu) (1988)\n",
       "913                                Golden Earrings (1947)\n",
       "32                                Wings of Courage (1995)\n",
       "727                                        Twister (1996)\n",
       "3636                                Bird on a Wire (1990)\n",
       "Name: title, dtype: object"
      ]
     },
     "execution_count": 15,
     "metadata": {},
     "output_type": "execute_result"
    }
   ],
   "source": [
    "getRecommendation(81)"
   ]
  },
  {
   "cell_type": "code",
   "execution_count": 16,
   "metadata": {},
   "outputs": [
    {
     "data": {
      "text/plain": [
       "360                      Lion King, The (1994)\n",
       "591                Beauty and the Beast (1991)\n",
       "1262                           Fantasia (1940)\n",
       "590     Snow White and the Seven Dwarfs (1937)\n",
       "1009                         Cinderella (1950)\n",
       "1016                              Dumbo (1941)\n",
       "655           James and the Giant Peach (1996)\n",
       "1019                Alice in Wonderland (1951)\n",
       "2027                    Sleeping Beauty (1959)\n",
       "3090                      Fantasia 2000 (1999)\n",
       "773        Hunchback of Notre Dame, The (1996)\n",
       "1642                          Anastasia (1997)\n",
       "2023               Return of Jafar, The (1993)\n",
       "1011              Three Caballeros, The (1945)\n",
       "626             All Dogs Go to Heaven 2 (1996)\n",
       "1459                   Cats Don't Dance (1997)\n",
       "3690                 Fun and Fancy Free (1947)\n",
       "3707                        Melody Time (1948)\n",
       "3706                    Make Mine Music (1946)\n",
       "2012                Little Mermaid, The (1989)\n",
       "Name: title, dtype: object"
      ]
     },
     "execution_count": 16,
     "metadata": {},
     "output_type": "execute_result"
    }
   ],
   "source": [
    "getRecommendation(1)"
   ]
  },
  {
   "cell_type": "code",
   "execution_count": 17,
   "metadata": {},
   "outputs": [
    {
     "data": {
      "text/plain": [
       "591                Beauty and the Beast (1991)\n",
       "1262                           Fantasia (1940)\n",
       "590     Snow White and the Seven Dwarfs (1937)\n",
       "1009                         Cinderella (1950)\n",
       "1016                              Dumbo (1941)\n",
       "655           James and the Giant Peach (1996)\n",
       "1019                Alice in Wonderland (1951)\n",
       "2027                    Sleeping Beauty (1959)\n",
       "3090                      Fantasia 2000 (1999)\n",
       "773        Hunchback of Notre Dame, The (1996)\n",
       "1642                          Anastasia (1997)\n",
       "2023               Return of Jafar, The (1993)\n",
       "1011              Three Caballeros, The (1945)\n",
       "626             All Dogs Go to Heaven 2 (1996)\n",
       "1459                   Cats Don't Dance (1997)\n",
       "3690                 Fun and Fancy Free (1947)\n",
       "3707                        Melody Time (1948)\n",
       "3706                    Make Mine Music (1946)\n",
       "47                           Pocahontas (1995)\n",
       "1017                      Pete's Dragon (1977)\n",
       "Name: title, dtype: object"
      ]
     },
     "execution_count": 17,
     "metadata": {},
     "output_type": "execute_result"
    }
   ],
   "source": [
    "getRecommendation(7)"
   ]
  },
  {
   "cell_type": "code",
   "execution_count": 18,
   "metadata": {},
   "outputs": [
    {
     "data": {
      "text/plain": [
       "14                          Cutthroat Island (1995)\n",
       "2753                            Medicine Man (1992)\n",
       "1564                          Excess Baggage (1997)\n",
       "1198           Big Blue, The (Le Grand Bleu) (1988)\n",
       "913                          Golden Earrings (1947)\n",
       "32                          Wings of Courage (1995)\n",
       "727                                  Twister (1996)\n",
       "3636                          Bird on a Wire (1990)\n",
       "957                       African Queen, The (1951)\n",
       "1180                 Raiders of the Lost Ark (1981)\n",
       "1271      Indiana Jones and the Last Crusade (1989)\n",
       "2046    Indiana Jones and the Temple of Doom (1984)\n",
       "1255                              Highlander (1986)\n",
       "206                               Waterworld (1995)\n",
       "1944                 Poseidon Adventure, The (1972)\n",
       "1546                     Conan the Barbarian (1982)\n",
       "1035             Ghost and the Darkness, The (1996)\n",
       "928            Adventures of Robin Hood, The (1938)\n",
       "43                             Mortal Kombat (1995)\n",
       "2084                           Avengers, The (1998)\n",
       "Name: title, dtype: object"
      ]
     },
     "execution_count": 18,
     "metadata": {},
     "output_type": "execute_result"
    }
   ],
   "source": [
    "getRecommendation(92)"
   ]
  },
  {
   "cell_type": "markdown",
   "metadata": {},
   "source": [
    "Pros:\n",
    "* No need for data on other users, thus no cold-start or sparsity problems.\n",
    "* Can recommend to users with unique tastes.\n",
    "* Can recommend new & unpopular items.\n",
    "* Can provide explanations for recommended items by listing content-features that caused an item to be recommended (in this case, movie genres)\n",
    "\n",
    "Cons:\n",
    "* Finding the appropriate features is hard.\n",
    "* Does not recommend items outside a user's content profile.\n",
    "* Unable to exploit quality judgments of other users."
   ]
  },
  {
   "cell_type": "markdown",
   "metadata": {},
   "source": [
    "#### * ***On-Demand Algo improvement Spike***\n",
    "\n",
    "    * Content-Based. \n",
    "    * Collaborative Filtering.\n",
    "    * Neural Network.\n",
    "    It is an investigation and POC. We may improve the algo step by step. \n",
    "    So, for the phase 1, we can use Content-Based Filtering as our algo. \n",
    "    Then Hybrid Recommendation, or even Neural Network.\n",
    "    We will use genres to build recommendation, since genres is using for descrbing the movie. \n",
    "    And we can kind of assume that movies has the same genres are highly possiblely similar\n",
    " "
   ]
  },
  {
   "cell_type": "code",
   "execution_count": null,
   "metadata": {},
   "outputs": [],
   "source": []
  },
  {
   "cell_type": "code",
   "execution_count": null,
   "metadata": {},
   "outputs": [],
   "source": []
  },
  {
   "cell_type": "code",
   "execution_count": null,
   "metadata": {},
   "outputs": [],
   "source": []
  }
 ],
 "metadata": {
  "kernelspec": {
   "display_name": "Python 3",
   "language": "python",
   "name": "python3"
  },
  "language_info": {
   "codemirror_mode": {
    "name": "ipython",
    "version": 3
   },
   "file_extension": ".py",
   "mimetype": "text/x-python",
   "name": "python",
   "nbconvert_exporter": "python",
   "pygments_lexer": "ipython3",
   "version": "3.6.5"
  }
 },
 "nbformat": 4,
 "nbformat_minor": 2
}
